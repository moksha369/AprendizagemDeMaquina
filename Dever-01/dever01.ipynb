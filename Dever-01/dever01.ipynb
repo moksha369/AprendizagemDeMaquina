{
  "nbformat": 4,
  "nbformat_minor": 0,
  "metadata": {
    "colab": {
      "provenance": []
    },
    "kernelspec": {
      "name": "python3",
      "display_name": "Python 3"
    },
    "language_info": {
      "name": "python"
    }
  },
  "cells": [
    {
      "cell_type": "code",
      "execution_count": null,
      "metadata": {
        "colab": {
          "base_uri": "https://localhost:8080/",
          "height": 367
        },
        "id": "QWcjVhcY5h9l",
        "outputId": "c4f01a1d-e46d-4d2f-eeaf-e0ee65a8dd2b"
      },
      "outputs": [
        {
          "output_type": "stream",
          "name": "stdout",
          "text": [
            "Generating locales (this might take a while)...\n",
            "  pt_BR.ISO-8859-1... done\n",
            "Generation complete.\n",
            "\u001b[1mdpkg-trigger:\u001b[0m \u001b[1;31merror:\u001b[0m must be called from a maintainer script (or with a --by-package option)\n",
            "\n",
            "Type dpkg-trigger --help for help about this utility.\n",
            "Generating locales (this might take a while)...\n",
            "  en_US.UTF-8... done\n",
            "  pt_BR.ISO-8859-1... done\n",
            "Generation complete.\n"
          ]
        },
        {
          "output_type": "error",
          "ename": "NameError",
          "evalue": "name 'os' is not defined",
          "traceback": [
            "\u001b[0;31m---------------------------------------------------------------------------\u001b[0m",
            "\u001b[0;31mNameError\u001b[0m                                 Traceback (most recent call last)",
            "\u001b[0;32m<ipython-input-1-05e17118295f>\u001b[0m in \u001b[0;36m<cell line: 0>\u001b[0;34m()\u001b[0m\n\u001b[1;32m      7\u001b[0m \u001b[0;31m# Reiniciar o processo Python\u001b[0m\u001b[0;34m\u001b[0m\u001b[0;34m\u001b[0m\u001b[0m\n\u001b[1;32m      8\u001b[0m \u001b[0;34m\u001b[0m\u001b[0m\n\u001b[0;32m----> 9\u001b[0;31m \u001b[0mos\u001b[0m\u001b[0;34m.\u001b[0m\u001b[0mkill\u001b[0m\u001b[0;34m(\u001b[0m\u001b[0mos\u001b[0m\u001b[0;34m.\u001b[0m\u001b[0mgetpid\u001b[0m\u001b[0;34m(\u001b[0m\u001b[0;34m)\u001b[0m\u001b[0;34m,\u001b[0m \u001b[0;36m9\u001b[0m\u001b[0;34m)\u001b[0m\u001b[0;34m\u001b[0m\u001b[0;34m\u001b[0m\u001b[0m\n\u001b[0m",
            "\u001b[0;31mNameError\u001b[0m: name 'os' is not defined"
          ]
        }
      ],
      "source": [
        "# Instalar pt_BR\n",
        "\n",
        "!/usr/share/locales/install-language-pack pt_BR\n",
        "\n",
        "!dpkg-reconfigure locales\n",
        "\n",
        "# Reiniciar o processo Python\n",
        "\n",
        "os.kill(os.getpid(), 9)"
      ]
    },
    {
      "cell_type": "code",
      "source": [
        "import pandas as pd\n",
        "from datetime import datetime\n",
        "\n",
        "# Criando um arquivo CSV com os dados\n",
        "csv_filename = \"cadastros.csv\"\n",
        "dados = \"\"\"nome,dataNasc,dataCadastrado,horaCadastro\n",
        "Jared Jhonson,05/04/1977,2025/02/17,21:40\n",
        "Erik Klepton,26/04/1995,2025/02/17,23:31\n",
        "Stive Rogers,15/08/1988,2025/02/17,20:32\n",
        "Arlindo Da Silva,07/05/2000,2025/02/17,20:39\n",
        "Jobson,05/05/1999,2025/02/17,15:40\n",
        "\"\"\"\n",
        "\n",
        "# Salvando os dados no arquivo CSV\n",
        "with open(csv_filename, \"w\") as file:\n",
        "    file.write(dados)\n",
        "\n",
        "# Lendo o arquivo CSV\n",
        "df = pd.read_csv(csv_filename)\n",
        "\n",
        "# Função para converter datas para o formato brasileiro (DD/MM/AAAA)\n",
        "def formatar_data(data, formato_entrada=\"%m/%d/%Y\", formato_saida=\"%d/%m/%Y\"):\n",
        "    return datetime.strptime(data, formato_entrada).strftime(formato_saida)\n",
        "\n",
        "# Solicitando ao usuário o número do registro desejado\n",
        "registro_n = int(input(\"Digite o número do registro que deseja visualizar (1 a 5): \"))\n",
        "\n",
        "# Verificando se o número é válido\n",
        "if 1 <= registro_n <= len(df):\n",
        "    registro = df.iloc[registro_n - 1]\n",
        "\n",
        "    # Formatando as datas\n",
        "    data_nascimento_br = formatar_data(registro[\"dataNasc\"])\n",
        "    data_cadastro_br = formatar_data(registro[\"dataCadastrado\"], \"%Y/%m/%d\")\n",
        "\n",
        "    # Exibindo o registro formatado\n",
        "    print(f\"Registro {registro_n}: Nome: {registro['nome']}; Data de nascimento: {data_nascimento_br}; \")\n",
        "    print(f\"Data de cadastro: {data_cadastro_br} às {registro['horaCadastro']} horas\")\n",
        "else:\n",
        "    print(\"Número de registro inválido! Escolha um número entre 1 e 5.\")\n"
      ],
      "metadata": {
        "colab": {
          "base_uri": "https://localhost:8080/"
        },
        "id": "fdrjaQsT6_9D",
        "outputId": "7543128d-6ff4-4302-eebe-c5f053684a99"
      },
      "execution_count": null,
      "outputs": [
        {
          "output_type": "stream",
          "name": "stdout",
          "text": [
            "Digite o número do registro que deseja visualizar (1 a 5): 5\n",
            "Registro 5: Nome: Jobson; Data de nascimento: 05/05/1999; \n",
            "Data de cadastro: 17/02/2025 às 15:40 horas\n"
          ]
        }
      ]
    }
  ]
}