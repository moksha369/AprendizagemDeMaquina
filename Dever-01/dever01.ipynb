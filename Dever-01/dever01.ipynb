{
 "cells": [
  {
   "cell_type": "code",
   "execution_count": 1,
   "metadata": {
    "colab": {
     "base_uri": "https://localhost:8080/",
     "height": 367
    },
    "id": "QWcjVhcY5h9l",
    "outputId": "c4f01a1d-e46d-4d2f-eeaf-e0ee65a8dd2b"
   },
   "outputs": [
    {
     "name": "stderr",
     "output_type": "stream",
     "text": [
      "O sistema n�o pode encontrar o caminho especificado.\n",
      "'dpkg-reconfigure' n�o � reconhecido como um comando interno\n",
      "ou externo, um programa oper�vel ou um arquivo em lotes.\n"
     ]
    },
    {
     "ename": "NameError",
     "evalue": "name 'os' is not defined",
     "output_type": "error",
     "traceback": [
      "\u001b[1;31m---------------------------------------------------------------------------\u001b[0m",
      "\u001b[1;31mNameError\u001b[0m                                 Traceback (most recent call last)",
      "Cell \u001b[1;32mIn[1], line 9\u001b[0m\n\u001b[0;32m      5\u001b[0m get_ipython()\u001b[38;5;241m.\u001b[39msystem(\u001b[38;5;124m'\u001b[39m\u001b[38;5;124mdpkg-reconfigure locales\u001b[39m\u001b[38;5;124m'\u001b[39m)\n\u001b[0;32m      7\u001b[0m \u001b[38;5;66;03m# Reiniciar o processo Python\u001b[39;00m\n\u001b[1;32m----> 9\u001b[0m \u001b[43mos\u001b[49m\u001b[38;5;241m.\u001b[39mkill(os\u001b[38;5;241m.\u001b[39mgetpid(), \u001b[38;5;241m9\u001b[39m)\n",
      "\u001b[1;31mNameError\u001b[0m: name 'os' is not defined"
     ]
    }
   ],
   "source": [
    "# Instalar pt_BR\n",
    "\n",
    "!/usr/share/locales/install-language-pack pt_BR\n",
    "\n",
    "!dpkg-reconfigure locales\n",
    "\n",
    "# Reiniciar o processo Python\n",
    "\n",
    "os.kill(os.getpid(), 9)"
   ]
  },
  {
   "cell_type": "code",
   "execution_count": null,
   "metadata": {
    "colab": {
     "base_uri": "https://localhost:8080/"
    },
    "id": "fdrjaQsT6_9D",
    "outputId": "7543128d-6ff4-4302-eebe-c5f053684a99"
   },
   "outputs": [
    {
     "name": "stdout",
     "output_type": "stream",
     "text": [
      "Digite o número do registro que deseja visualizar (1 a 5): 5\n",
      "Registro 5: Nome: Jobson; Data de nascimento: 05/05/1999; \n",
      "Data de cadastro: 17/02/2025 às 15:40 horas\n"
     ]
    }
   ],
   "source": [
    "import pandas as pd\n",
    "from datetime import datetime\n",
    "\n",
    "# Criando um arquivo CSV com os dados\n",
    "csv_filename = \"cadastros.csv\"\n",
    "dados = \"\"\"nome,dataNasc,dataCadastrado,horaCadastro\n",
    "Jared Jhonson,05/04/1977,2025/02/17,21:40\n",
    "Erik Klepton,26/04/1995,2025/02/17,23:31\n",
    "Stive Rogers,15/08/1988,2025/02/17,20:32\n",
    "Arlindo Da Silva,07/05/2000,2025/02/17,20:39\n",
    "Jobson,05/05/1999,2025/02/17,15:40\n",
    "\"\"\"\n",
    "\n",
    "# Salvando os dados no arquivo CSV\n",
    "with open(csv_filename, \"w\") as file:\n",
    "    file.write(dados)\n",
    "\n",
    "# Lendo o arquivo CSV\n",
    "df = pd.read_csv(csv_filename)\n",
    "\n",
    "# Função para converter datas para o formato brasileiro (DD/MM/AAAA)\n",
    "def formatar_data(data, formato_entrada=\"%m/%d/%Y\", formato_saida=\"%d/%m/%Y\"):\n",
    "    return datetime.strptime(data, formato_entrada).strftime(formato_saida)\n",
    "\n",
    "# Solicitando ao usuário o número do registro desejado\n",
    "registro_n = int(input(\"Digite o número do registro que deseja visualizar (1 a 5): \"))\n",
    "\n",
    "# Verificando se o número é válido\n",
    "if 1 <= registro_n <= len(df):\n",
    "    registro = df.iloc[registro_n - 1]\n",
    "\n",
    "    # Formatando as datas\n",
    "    data_nascimento_br = formatar_data(registro[\"dataNasc\"])\n",
    "    data_cadastro_br = formatar_data(registro[\"dataCadastrado\"], \"%Y/%m/%d\")\n",
    "\n",
    "    # Exibindo o registro formatado\n",
    "    print(f\"Registro {registro_n}: Nome: {registro['nome']}; Data de nascimento: {data_nascimento_br}; \")\n",
    "    print(f\"Data de cadastro: {data_cadastro_br} às {registro['horaCadastro']} horas\")\n",
    "else:\n",
    "    print(\"Número de registro inválido! Escolha um número entre 1 e 5.\")\n"
   ]
  }
 ],
 "metadata": {
  "colab": {
   "provenance": []
  },
  "kernelspec": {
   "display_name": "Python 3",
   "name": "python3"
  },
  "language_info": {
   "codemirror_mode": {
    "name": "ipython",
    "version": 3
   },
   "file_extension": ".py",
   "mimetype": "text/x-python",
   "name": "python",
   "nbconvert_exporter": "python",
   "pygments_lexer": "ipython3",
   "version": "3.13.0"
  }
 },
 "nbformat": 4,
 "nbformat_minor": 0
}
